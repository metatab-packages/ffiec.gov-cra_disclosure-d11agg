{
 "cells": [
  {
   "cell_type": "code",
   "execution_count": 1,
   "metadata": {},
   "outputs": [],
   "source": [
    "import seaborn as sns\n",
    "import metapack as mp\n",
    "import pandas as pd\n",
    "import numpy as np\n",
    "import matplotlib.pyplot as plt\n",
    "from IPython.display import display \n",
    "\n",
    "%matplotlib inline\n",
    "sns.set_context('notebook')\n",
    "mp.jupyter.init()\n"
   ]
  },
  {
   "cell_type": "code",
   "execution_count": 3,
   "metadata": {},
   "outputs": [
    {
     "data": {
      "text/html": [
       "<h1>Small business loan originations, by county and year</h1>\n",
       "<p><code>ffiec.gov-cra_disclosure-d11agg-1.1.1</code> Last Update: 2020-08-11T22:08:02</p>\n",
       "<p><em>Multi-year CRA disclosures for small business originations, aggregated to county and year</em></p>\n",
       "<h2>Documentation Links</h2>\n",
       "<ul>\n",
       "<li><a href=\"https://www.ffiec.gov/cra/pdf/17FlatDiscSpecs.pdf\">Disclosure File Specifications</a> File specifications for the 2017 Disclosure Flat File</li>\n",
       "<li><a href=\"https://www.ffiec.gov/cra/craproducts.htm\">CRA Data Products</a> </li>\n",
       "<li><a href=\"https://www.ffiec.gov/cra/craflatfiles.htm\">Aggregate &amp; Disclosure Flat Files</a> Links to download the files.</li>\n",
       "</ul>\n",
       "<h2>Contacts</h2>\n",
       "<ul>\n",
       "<li><strong>Wrangler</strong> <a href=\"mailto:eric@civicknowledge.com\">Eric Busboom</a>, <a href=\"http://civicknowledge.com\">Civic Knowledge</a></li>\n",
       "</ul>\n",
       "<h2>Resources</h2>\n",
       "<ul>\n",
       "<li><strong> <a href=\"notebooks/Build.ipynb\">smb_orig_county</a></strong>. Small business loan originations by county</li>\n",
       "</ul>\n",
       "<h2>References</h2>\n",
       "<p><ul><li> <strong>cra_d11</string>, <em>metapack+http://library.metatab.org/ffiec.gov-cra_disclosure-d11.csv</em>. Source data, CRA small business originations</li><ul></p>"
      ],
      "text/plain": [
       "# Small business loan originations, by county and year\n",
       "`ffiec.gov-cra_disclosure-d11agg-1.1.1` Last Update: 2020-08-11T22:08:02\n",
       "\n",
       "_Multi-year CRA disclosures for small business originations, aggregated to county and year_\n",
       "\n",
       "\n",
       "## Documentation Links\n",
       "\n",
       "* [Disclosure File Specifications](https://www.ffiec.gov/cra/pdf/17FlatDiscSpecs.pdf) File specifications for the 2017 Disclosure Flat File\n",
       "* [CRA Data Products](https://www.ffiec.gov/cra/craproducts.htm) \n",
       "* [Aggregate & Disclosure Flat Files](https://www.ffiec.gov/cra/craflatfiles.htm) Links to download the files.\n",
       "\n",
       " \n",
       "\n",
       "## Contacts\n",
       "\n",
       "* **Wrangler** [Eric Busboom](mailto:eric@civicknowledge.com), [Civic Knowledge](http://civicknowledge.com)\n",
       "\n",
       "## Resources\n",
       "\n",
       "* ** [smb_orig_county](notebooks/Build.ipynb)**. Small business loan originations by county\n",
       "\n",
       "## References\n",
       "<ul><li> <strong>cra_d11</string>, <em>metapack+http://library.metatab.org/ffiec.gov-cra_disclosure-d11.csv</em>. Source data, CRA small business originations</li><ul>\n"
      ]
     },
     "execution_count": 3,
     "metadata": {},
     "output_type": "execute_result"
    }
   ],
   "source": [
    "#pkg = mp.jupyter.open_package()\n",
    "pkg = mp.jupyter.open_source_package()\n",
    "pkg"
   ]
  },
  {
   "cell_type": "code",
   "execution_count": 4,
   "metadata": {},
   "outputs": [
    {
     "data": {
      "text/html": [
       "<h1>Community Reinvestment Act Disclosure Files, 2010 to 2018</h1>\n",
       "<p><code>ffiec.gov-cra_disclosure-d11-2.1.1</code> Last Update: 2020-08-11T22:20:12</p>\n",
       "<p><em>Multi-year CRA disclosures for small business originations, per county, year and bank.</em></p>\n",
       "<p>The <a href=\"https://www.ffiec.gov/cra/default.htm\">Community Reinvestment Act</a> was enacted by congress in 1997 to encourage investment in underserved communities. The Act requires lenders record and publish data about loans on a per-community basis, specifically, Census tracts and MSAs.  The Disclosure reports record individual lender's loans for MSAs, broken out by loan value and the Median Family income of tracts. </p>\n",
       "<p>The <a href=\"https://www.ffiec.gov/cra/craflatfiles.htm\">original data releases</a> are difficult to use, as each year's disclosures are packages as fixed-width records with all 6 tables in a single file, requiring substantial effort to extract specific record. This data package collects the Small Business Loan origination disclosure records ( D1-1 )  for the years 2010 to 2015, inclusive.</p>\n",
       "<h2>Documentation Links</h2>\n",
       "<ul>\n",
       "<li><a href=\"https://www.ffiec.gov/cra/pdf/17FlatDiscSpecs.pdf\">Disclosure File Specifications</a> File specifications for the 2017 Disclosure Flat File</li>\n",
       "<li><a href=\"http://library.metatab.org/ffiec.gov-cra_disclosure-d11-2.1.1/index.html\">Documentation Page</a> </li>\n",
       "<li><a href=\"https://www.ffiec.gov/cra/craproducts.htm\">CRA Data Products</a> </li>\n",
       "<li><a href=\"https://www.ffiec.gov/cra/craflatfiles.htm\">Aggregate &amp; Disclosure Flat Files</a> Links to download the files.</li>\n",
       "</ul>\n",
       "<h2>Contacts</h2>\n",
       "<ul>\n",
       "<li><strong>Wrangler</strong> <a href=\"mailto:eric@sandiegodata.org\">Eric Busboom</a>, <a href=\"http://sandiegodata.org\">San Diego Regional Data Library</a></li>\n",
       "</ul>\n",
       "<h2>Resources</h2>\n",
       "<ul>\n",
       "<li><strong> <a href=\"http://library.metatab.org/ffiec.gov-cra_disclosure-d11-2.1.1/data/sb_loan_orig.csv\">sb_loan_orig</a></strong>. Table D1-1, small business disclosure records, for years 2010 to 2015 inclusive</li>\n",
       "</ul>\n",
       "<h2>References</h2>\n",
       "<p><ul><li> <strong><a href=\"https://www.ffiec.gov/cra/xls/18exp_discl.zip\">discl_18</a></strong>. </li><li> <strong><a href=\"https://www.ffiec.gov/cra/xls/17exp_discl.zip\">discl_17</a></strong>. </li><li> <strong><a href=\"https://www.ffiec.gov/cra/xls/16exp_discl.zip\">discl_16</a></strong>. </li><li> <strong><a href=\"https://www.ffiec.gov/cra/xls/15exp_discl.zip\">discl_15</a></strong>. </li><li> <strong><a href=\"https://www.ffiec.gov/cra/xls/14exp_discl.zip\">discl_14</a></strong>. </li><li> <strong><a href=\"https://www.ffiec.gov/cra/xls/13exp_discl.zip\">discl_13</a></strong>. </li><li> <strong><a href=\"https://www.ffiec.gov/cra/xls/12exp_discl.zip\">discl_12</a></strong>. </li><li> <strong><a href=\"https://www.ffiec.gov/cra/xls/11exp_discl.zip\">discl_11</a></strong>. </li><li> <strong><a href=\"https://www.ffiec.gov/cra/xls/10exp_discl.zip\">discl_10</a></strong>. </li><ul></p>"
      ],
      "text/plain": [
       "# Community Reinvestment Act Disclosure Files, 2010 to 2018\n",
       "`ffiec.gov-cra_disclosure-d11-2.1.1` Last Update: 2020-08-11T22:20:12\n",
       "\n",
       "_Multi-year CRA disclosures for small business originations, per county, year and bank._\n",
       "\n",
       "\n",
       "\n",
       "The [Community Reinvestment Act](https://www.ffiec.gov/cra/default.htm) was enacted by congress in 1997 to encourage investment in underserved communities. The Act requires lenders record and publish data about loans on a per-community basis, specifically, Census tracts and MSAs.  The Disclosure reports record individual lender's loans for MSAs, broken out by loan value and the Median Family income of tracts. \n",
       "\n",
       "The [original data releases](https://www.ffiec.gov/cra/craflatfiles.htm) are difficult to use, as each year's disclosures are packages as fixed-width records with all 6 tables in a single file, requiring substantial effort to extract specific record. This data package collects the Small Business Loan origination disclosure records ( D1-1 )  for the years 2010 to 2015, inclusive.\n",
       "## Documentation Links\n",
       "\n",
       "* [Disclosure File Specifications](https://www.ffiec.gov/cra/pdf/17FlatDiscSpecs.pdf) File specifications for the 2017 Disclosure Flat File\n",
       "* [Documentation Page](http://library.metatab.org/ffiec.gov-cra_disclosure-d11-2.1.1/index.html) \n",
       "* [CRA Data Products](https://www.ffiec.gov/cra/craproducts.htm) \n",
       "* [Aggregate & Disclosure Flat Files](https://www.ffiec.gov/cra/craflatfiles.htm) Links to download the files.\n",
       "\n",
       " \n",
       "\n",
       "## Contacts\n",
       "\n",
       "* **Wrangler** [Eric Busboom](mailto:eric@sandiegodata.org), [San Diego Regional Data Library](http://sandiegodata.org)\n",
       "\n",
       "## Resources\n",
       "\n",
       "* ** [sb_loan_orig](http://library.metatab.org/ffiec.gov-cra_disclosure-d11-2.1.1/data/sb_loan_orig.csv)**. Table D1-1, small business disclosure records, for years 2010 to 2015 inclusive\n",
       "\n",
       "## References\n",
       "<ul><li> <strong><a href=\"https://www.ffiec.gov/cra/xls/18exp_discl.zip\">discl_18</a></strong>. </li><li> <strong><a href=\"https://www.ffiec.gov/cra/xls/17exp_discl.zip\">discl_17</a></strong>. </li><li> <strong><a href=\"https://www.ffiec.gov/cra/xls/16exp_discl.zip\">discl_16</a></strong>. </li><li> <strong><a href=\"https://www.ffiec.gov/cra/xls/15exp_discl.zip\">discl_15</a></strong>. </li><li> <strong><a href=\"https://www.ffiec.gov/cra/xls/14exp_discl.zip\">discl_14</a></strong>. </li><li> <strong><a href=\"https://www.ffiec.gov/cra/xls/13exp_discl.zip\">discl_13</a></strong>. </li><li> <strong><a href=\"https://www.ffiec.gov/cra/xls/12exp_discl.zip\">discl_12</a></strong>. </li><li> <strong><a href=\"https://www.ffiec.gov/cra/xls/11exp_discl.zip\">discl_11</a></strong>. </li><li> <strong><a href=\"https://www.ffiec.gov/cra/xls/10exp_discl.zip\">discl_10</a></strong>. </li><ul>\n"
      ]
     },
     "execution_count": 4,
     "metadata": {},
     "output_type": "execute_result"
    }
   ],
   "source": [
    "import metapack as mp\n",
    "pkg = mp.open_package('http://library.metatab.org/ffiec.gov-cra_disclosure-d11-2.1.1.csv')\n",
    "pkg"
   ]
  },
  {
   "cell_type": "code",
   "execution_count": 8,
   "metadata": {},
   "outputs": [],
   "source": [
    "# Create Dataframes\n",
    "df = pkg.resource('sb_loan_orig').dataframe()"
   ]
  },
  {
   "cell_type": "code",
   "execution_count": 9,
   "metadata": {},
   "outputs": [],
   "source": [
    "from geoid.acs import County\n",
    "\n",
    "def mkgeoid(r):\n",
    "    try:\n",
    "        return str(County(r.state, r.county))\n",
    "    except ValueError:\n",
    "        return None\n",
    "\n",
    "df['geoid'] = df.apply(lambda r: mkgeoid(r), axis=1)"
   ]
  },
  {
   "cell_type": "code",
   "execution_count": 10,
   "metadata": {},
   "outputs": [],
   "source": [
    "cols = [c for c in df.columns if c.startswith('tot_') or c.startswith('num_')]\n",
    "\n",
    "t = df.groupby(['year','geoid'])[cols].sum()"
   ]
  },
  {
   "cell_type": "code",
   "execution_count": 16,
   "metadata": {},
   "outputs": [
    {
     "data": {
      "text/plain": [
       "<matplotlib.axes._subplots.AxesSubplot at 0x7f893e7fd390>"
      ]
     },
     "execution_count": 16,
     "metadata": {},
     "output_type": "execute_result"
    },
    {
     "data": {
      "image/png": "[encoded data removed]",
      "text/plain": [
       "<Figure size 432x288 with 1 Axes>"
      ]
     },
     "metadata": {
      "needs_background": "light"
     },
     "output_type": "display_data"
    }
   ],
   "source": [
    "t.loc[(slice(None), '05000US01001'),:].tot_orig_bus_lt100k.plot()"
   ]
  },
  {
   "cell_type": "code",
   "execution_count": null,
   "metadata": {},
   "outputs": [],
   "source": []
  }
 ],
 "metadata": {
  "kernelspec": {
   "display_name": "Python 3",
   "language": "python",
   "name": "python3"
  },
  "language_info": {
   "codemirror_mode": {
    "name": "ipython",
    "version": 3
   },
   "file_extension": ".py",
   "mimetype": "text/x-python",
   "name": "python",
   "nbconvert_exporter": "python",
   "pygments_lexer": "ipython3",
   "version": "3.7.6"
  }
 },
 "nbformat": 4,
 "nbformat_minor": 4
}
